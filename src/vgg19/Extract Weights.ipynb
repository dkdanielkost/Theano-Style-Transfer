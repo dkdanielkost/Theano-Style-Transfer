{
 "cells": [
  {
   "cell_type": "code",
   "execution_count": null,
   "metadata": {},
   "outputs": [],
   "source": [
    "%matplotlib inline\n",
    "import matplotlib.pylab as plt\n",
    "from keras.models import Sequential\n",
    "from keras.layers.core import Flatten, Dense, Dropout\n",
    "from keras.layers.convolutional import Convolution2D, MaxPooling2D, ZeroPadding2D\n",
    "from keras.optimizers import SGD\n",
    "import cv2, numpy as np\n",
    "from keras import backend as K\n",
    "from keras_model.vgg_19_keras import VGG_19\n",
    "import pandas as pd\n",
    "import sys\n",
    "import joblib\n",
    "import os\n",
    "import glob\n",
    "def listdir_nohidden(path):\n",
    "    return glob.glob(os.path.join(path, '*'))\n",
    "\n",
    "\n",
    "K.set_image_dim_ordering('th')"
   ]
  },
  {
   "cell_type": "code",
   "execution_count": null,
   "metadata": {},
   "outputs": [],
   "source": [
    "if not os.path.exists('downloads'):\n",
    "    os.makedirs('downloads')\n",
    "\n",
    "if not os.path.exists('theano_model/weights'):\n",
    "    os.makedirs('theano_model/weights')\n",
    "\n",
    "\n",
    "print 'Downloaded Files:',listdir_nohidden('downloads')\n",
    "for file_path in listdir_nohidden('downloads'):\n",
    "    if'downloads/vgg19_weights.h5' == file_path:\n",
    "        print 'Already Downloaded'  \n",
    "    else:\n",
    "        print 'download from https://drive.google.com/file/d/0Bz7KyqmuGsilZ2RVeVhKY0FyRmc/view?usp=sharing and move to downloads'"
   ]
  },
  {
   "cell_type": "code",
   "execution_count": null,
   "metadata": {},
   "outputs": [],
   "source": [
    "model = VGG_19('downloads/vgg19_weights.h5')\n",
    "sgd = SGD(lr=0.1, decay=1e-6, momentum=0.9, nesterov=True)\n",
    "model.compile(optimizer=sgd, loss='categorical_crossentropy')"
   ]
  },
  {
   "cell_type": "code",
   "execution_count": null,
   "metadata": {},
   "outputs": [],
   "source": [
    "directory = 'theano_model/weights'\n",
    "# Write all weights to output\n",
    "weights_list = []\n",
    "bias_list = []\n",
    "for i,layer in enumerate(model.layers):\n",
    "    weights = layer.get_weights()\n",
    "    len_weights = len(weights)\n",
    "    if len_weights == 2:\n",
    "        layer_name = layer.name\n",
    "        weights_name = os.path.join(directory,layer_name + '_weights')\n",
    "        bias_name = os.path.join(directory,layer_name + '_bias')\n",
    "        \n",
    "        weight = weights[0]\n",
    "        bias = weights[1]\n",
    "        \n",
    "        joblib.dump(weight,weights_name)\n",
    "        joblib.dump(bias,bias_name)\n",
    "        \n",
    "        weights_list.append(weights_name)\n",
    "        bias_list.append(bias_name)\n",
    "        \n",
    "joblib.dump(bias_list,'theano_model/weight_names/layer_names_bias')\n",
    "joblib.dump(weights_list,'theano_model/weight_names/layer_names_weights')\n",
    "\n",
    "\n",
    "        "
   ]
  },
  {
   "cell_type": "code",
   "execution_count": null,
   "metadata": {},
   "outputs": [],
   "source": [
    "# Write all outputs to a text file for the summary\n",
    "stdout = sys.stdout  #keep a handle on the real standard output\n",
    "sys.stdout = open('VGG19_Summary.txt', 'w')\n",
    "model.summary()\n",
    "sys.stdout.close()\n",
    "sys.stdout = stdout\n",
    "\n"
   ]
  },
  {
   "cell_type": "code",
   "execution_count": null,
   "metadata": {},
   "outputs": [],
   "source": [
    "from theano_model import  vgg19_model\n",
    "reload(vgg19_model)\n",
    "VGG19 = vgg19_model.VGG19\n",
    "layer_weights = vgg19_model.layer_weights\n",
    "bias_weights = vgg19_model.bias_weights\n",
    "\n"
   ]
  },
  {
   "cell_type": "code",
   "execution_count": null,
   "metadata": {},
   "outputs": [],
   "source": [
    "import numpy as np"
   ]
  },
  {
   "cell_type": "code",
   "execution_count": null,
   "metadata": {},
   "outputs": [],
   "source": [
    "layer_names = layer_weights.keys()\n",
    "layer_names = np.sort(layer_names)"
   ]
  },
  {
   "cell_type": "code",
   "execution_count": null,
   "metadata": {},
   "outputs": [],
   "source": [
    "layer_names"
   ]
  },
  {
   "cell_type": "code",
   "execution_count": null,
   "metadata": {},
   "outputs": [],
   "source": [
    "import pickle\n",
    "normalized = pickle.load(open('vgg19_normalized.pkl'))"
   ]
  },
  {
   "cell_type": "code",
   "execution_count": null,
   "metadata": {},
   "outputs": [],
   "source": [
    "import os\n",
    "import joblib\n",
    "directory = 'theano_model/weights'\n",
    "# Write all weights to output\n",
    "weights_list = []\n",
    "bias_list = []\n",
    "\n",
    "count = 0\n",
    "for i,norm_weights in enumerate(normalized['param values']):\n",
    "#     weights = layer.get_weights()\n",
    "#     len_weights = len(weights)\n",
    "#     if len_weights == 2:\n",
    "#         layer_name = layer.name\n",
    "#         weights_name = os.path.join(directory,layer_name + '_weights')\n",
    "#         bias_name = os.path.join(directory,layer_name + '_bias')\n",
    "        \n",
    "#         weight = weights[0]\n",
    "#         bias = weights[1]\n",
    "    if i%2 == 0:\n",
    "        joblib.dump(norm_weights,os.path.join(directory,str(count) + '_w'))\n",
    "\n",
    "\n",
    "    else:\n",
    "        joblib.dump(norm_weights,os.path.join(directory,str(count) + '_b'))\n",
    "        count = count + 1\n",
    "\n",
    "#     weights_list.append(weights_name)\n",
    "#     bias_list.append(bias_name)\n",
    "        \n",
    "# joblib.dump(bias_list,'theano_model/weight_names/layer_names_bias')\n",
    "# joblib.dump(weights_list,'theano_model/weight_names/layer_names_weights')\n",
    "\n",
    "\n",
    "        "
   ]
  },
  {
   "cell_type": "code",
   "execution_count": null,
   "metadata": {},
   "outputs": [],
   "source": [
    "normalized.keys()"
   ]
  },
  {
   "cell_type": "code",
   "execution_count": null,
   "metadata": {},
   "outputs": [],
   "source": [
    "# Read in layer weights and save to a dictionary\n",
    "\n",
    "cwd = os.getcwd()\n",
    "direct = os.path.join(cwd,'theano_model','weights')\n",
    "# weights_layer_paths = joblib.load(os.path.join(cwd,'weight_names','layer_names_weights'))\n",
    "layer_weights = {}\n",
    "for layer_weight_path in range(16):\n",
    "#     head,layer_name = os.path.split(layer_weight_path)\n",
    "    layer_weights[str(layer_weight_path) + '_w'] = joblib.load(os.path.join(direct,str(layer_weight_path) + '_w'))\n",
    "\n",
    "\n",
    "# Read in bias weights and save to a dictionary\n",
    "for bias_layer_path in range(16):\n",
    "    layer_weights[str(bias_layer_path) + '_b'] = joblib.load(os.path.join(direct,str(bias_layer_path) + '_b'))\n",
    "\n"
   ]
  },
  {
   "cell_type": "code",
   "execution_count": null,
   "metadata": {},
   "outputs": [],
   "source": [
    "layer_weights.keys()"
   ]
  },
  {
   "cell_type": "code",
   "execution_count": null,
   "metadata": {},
   "outputs": [],
   "source": []
  }
 ],
 "metadata": {
  "anaconda-cloud": {},
  "kernelspec": {
   "display_name": "Python 2",
   "language": "python",
   "name": "python2"
  },
  "language_info": {
   "codemirror_mode": {
    "name": "ipython",
    "version": 2
   },
   "file_extension": ".py",
   "mimetype": "text/x-python",
   "name": "python",
   "nbconvert_exporter": "python",
   "pygments_lexer": "ipython2"
  }
 },
 "nbformat": 4,
 "nbformat_minor": 1
}
