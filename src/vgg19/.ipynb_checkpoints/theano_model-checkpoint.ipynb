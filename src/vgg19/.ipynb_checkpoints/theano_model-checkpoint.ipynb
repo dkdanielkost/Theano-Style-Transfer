{
 "cells": [
  {
   "cell_type": "code",
   "execution_count": 5,
   "metadata": {
    "collapsed": false
   },
   "outputs": [],
   "source": [
    "%matplotlib inline\n",
    "import matplotlib.pylab as plt\n",
    "import numpy as np\n",
    "import theano\n",
    "from scipy import misc\n",
    "from theano_model import  vgg19_model\n",
    "reload(vgg19_model)\n",
    "VGG19 = vgg19_model.VGG19\n",
    "layer_weights = vgg19_model.layer_weights\n",
    "bias_weights = vgg19_model.bias_weights\n",
    "\n",
    "\n",
    "labels_file = 'theano_model/labels/synset_words.txt'    \n",
    "labels = np.loadtxt(labels_file, str, delimiter='\\t')"
   ]
  },
  {
   "cell_type": "code",
   "execution_count": null,
   "metadata": {
    "collapsed": true
   },
   "outputs": [],
   "source": [
    "batch_size = 1\n",
    "image = theano.tensor.tensor4('image')"
   ]
  },
  {
   "cell_type": "code",
   "execution_count": null,
   "metadata": {
    "collapsed": true
   },
   "outputs": [],
   "source": []
  },
  {
   "cell_type": "code",
   "execution_count": null,
   "metadata": {
    "collapsed": true
   },
   "outputs": [],
   "source": [
    "import cv2\n",
    "\n",
    "img = cv2.resize(cv2.imread('images/bald_eagle.jpg'), (224, 224)).astype(np.float32)\n",
    "plt.imshow(img)\n",
    "mean_pixel = [103.939, 116.779, 123.68]\n",
    "img = img.astype(np.float32, copy=False)\n",
    "for c in range(3):\n",
    "    img[:, :, c] = img[:, :, c] - mean_pixel[c]\n",
    "img = img.transpose((2,0,1))\n",
    "img = np.expand_dims(img, axis=0)\n",
    "print img.shape"
   ]
  },
  {
   "cell_type": "markdown",
   "metadata": {},
   "source": [
    "### Predict an image"
   ]
  },
  {
   "cell_type": "code",
   "execution_count": null,
   "metadata": {
    "collapsed": true
   },
   "outputs": [],
   "source": [
    "vgg19 = VGG19(input_image_shape=img.shape)\n",
    "softmax_prediction = theano.function(inputs=[vgg19.input],outputs=vgg19.dense_3.output)"
   ]
  },
  {
   "cell_type": "code",
   "execution_count": null,
   "metadata": {
    "collapsed": true
   },
   "outputs": [],
   "source": [
    "softmax_output = softmax_prediction(img)"
   ]
  },
  {
   "cell_type": "code",
   "execution_count": null,
   "metadata": {
    "collapsed": true
   },
   "outputs": [],
   "source": [
    "print np.argmax(softmax_output[0])\n",
    "print labels[22]"
   ]
  },
  {
   "cell_type": "markdown",
   "metadata": {},
   "source": [
    "### Pull Image from Layer\n",
    "Just let the image be an input and choose whichever layer you want (or layers) and use .output"
   ]
  },
  {
   "cell_type": "code",
   "execution_count": null,
   "metadata": {
    "collapsed": true
   },
   "outputs": [],
   "source": [
    "layer_outputs = theano.function(inputs=[vgg19.input],\n",
    "                                     outputs=[vgg19.convolution2d_1.output,\n",
    "                                              vgg19.convolution2d_16.output])"
   ]
  },
  {
   "cell_type": "code",
   "execution_count": null,
   "metadata": {
    "collapsed": true
   },
   "outputs": [],
   "source": [
    "layer_1, layer_16 = layer_outputs(img)\n"
   ]
  },
  {
   "cell_type": "code",
   "execution_count": null,
   "metadata": {
    "collapsed": true
   },
   "outputs": [],
   "source": [
    "print layer_1.shape\n",
    "print layer_16.shape"
   ]
  },
  {
   "cell_type": "code",
   "execution_count": null,
   "metadata": {
    "collapsed": true
   },
   "outputs": [],
   "source": [
    "plt.imshow(layer_1[0,20,:,:])"
   ]
  },
  {
   "cell_type": "code",
   "execution_count": null,
   "metadata": {
    "collapsed": true
   },
   "outputs": [],
   "source": [
    "plt.imshow(layer_16[0,2,:,:])"
   ]
  },
  {
   "cell_type": "code",
   "execution_count": null,
   "metadata": {
    "collapsed": true
   },
   "outputs": [],
   "source": [
    "def extract_artist_layer_outputs(image):\n",
    "    '''\n",
    "    conv1 = convolution2d_2\n",
    "    conv2 = convolution2d_4\n",
    "    conv3 = convolution2d_8\n",
    "    conv4 = convolution2d_12\n",
    "    conv5 = convolution2d_16\n",
    "    '''\n",
    "    layer_outputs = theano.function(inputs=[vgg19.input],\n",
    "                                    outputs=[vgg19.convolution2d_2.output,\n",
    "                                             vgg19.convolution2d_4.output,\n",
    "                                             vgg19.convolution2d_8.output,\n",
    "                                             vgg19.convolution2d_12.output,\n",
    "                                             vgg19.convolution2d_16.output,\n",
    "                                            ])\n",
    "    layer1,layer2,layer3,layer4,layer5 = layer_outputs(image)\n",
    "    return layer1,layer2,layer3,layer4,layer5\n",
    "\n",
    "\n",
    "def extract_photo_layer_outputs(image):\n",
    "    '''\n",
    "    conv1 = convolution2d_2\n",
    "    conv2 = convolution2d_4\n",
    "    conv3 = convolution2d_8\n",
    "    conv4 = convolution2d_12\n",
    "    conv5 = convolution2d_16\n",
    "    '''\n",
    "    layer_outputs = theano.function(inputs=[vgg19.input],\n",
    "                                    outputs= vgg19.convolution2d_12.output,)\n",
    "    layer4 = layer_outputs(image)\n",
    "    return layer4\n",
    "\n",
    "\n"
   ]
  },
  {
   "cell_type": "code",
   "execution_count": null,
   "metadata": {
    "collapsed": true
   },
   "outputs": [],
   "source": [
    "layer1,layer2,layer3,layer4,layer5 = extract_artist_layer_outputs(img)\n",
    "photo_layer4 = extract_photo_layer_outputs(img)\n",
    "\n"
   ]
  },
  {
   "cell_type": "code",
   "execution_count": null,
   "metadata": {
    "collapsed": true
   },
   "outputs": [],
   "source": [
    "layer1.shape"
   ]
  },
  {
   "cell_type": "code",
   "execution_count": null,
   "metadata": {
    "collapsed": true
   },
   "outputs": [],
   "source": [
    "white_noise = np.random.normal(loc=0.0, scale=1.0, size=(1, 3, 224, 224))"
   ]
  },
  {
   "cell_type": "code",
   "execution_count": null,
   "metadata": {
    "collapsed": true
   },
   "outputs": [],
   "source": [
    "white_noise_output = extract_artist_layer_outputs(white_noise)"
   ]
  },
  {
   "cell_type": "code",
   "execution_count": null,
   "metadata": {
    "collapsed": true
   },
   "outputs": [],
   "source": [
    "l_content = photo_layer4  - white_noise_output[3]"
   ]
  },
  {
   "cell_type": "code",
   "execution_count": null,
   "metadata": {
    "collapsed": true
   },
   "outputs": [],
   "source": [
    "l_content"
   ]
  },
  {
   "cell_type": "code",
   "execution_count": null,
   "metadata": {
    "collapsed": true
   },
   "outputs": [],
   "source": []
  }
 ],
 "metadata": {
  "anaconda-cloud": {},
  "kernelspec": {
   "display_name": "Python 2",
   "language": "python",
   "name": "python2"
  },
  "language_info": {
   "codemirror_mode": {
    "name": "ipython",
    "version": 2
   },
   "file_extension": ".py",
   "mimetype": "text/x-python",
   "name": "python",
   "nbconvert_exporter": "python",
   "pygments_lexer": "ipython2",
   "version": "2.7.11"
  }
 },
 "nbformat": 4,
 "nbformat_minor": 1
}
