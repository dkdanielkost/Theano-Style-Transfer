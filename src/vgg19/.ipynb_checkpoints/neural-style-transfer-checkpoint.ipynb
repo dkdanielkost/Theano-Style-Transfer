{
 "cells": [
  {
   "cell_type": "markdown",
   "metadata": {},
   "source": [
    "## Neural Style Transfer"
   ]
  },
  {
   "cell_type": "code",
   "execution_count": 1,
   "metadata": {
    "collapsed": true
   },
   "outputs": [],
   "source": [
    "from NeuralStyle import NeuralStyleTransfer"
   ]
  },
  {
   "cell_type": "markdown",
   "metadata": {},
   "source": [
    "## Tutorial\n",
    "\n",
    "- Specify the paths for the content and style\n",
    "\n",
    "- Class defaults:\n",
    "    - image_w = 500 width (in pixels) of the generated image\n",
    "    - image_h = 500 height (in pixels) of the generated image\n",
    "    - style_weight=2e5 weight on style\n",
    "    - content_weight=0.001 weight on content. This ratio deviates from Gatys et al. (who used 1e-3 and 1-4 rather than 1e-8)"
   ]
  },
  {
   "cell_type": "code",
   "execution_count": 2,
   "metadata": {
    "collapsed": false
   },
   "outputs": [],
   "source": [
    "content_path = 'images/tubingen.jpg'\n",
    "style_path = 'images/starry_night.jpg'\n",
    "nst = NeuralStyleTransfer(content_path, style_path, image_w=300, image_h=300)"
   ]
  },
  {
   "cell_type": "markdown",
   "metadata": {},
   "source": [
    "## Optimization\n",
    "\n",
    "There are two optimizers available, L-BFGS and Adam. L-BFGS converges more quickly on lower costs, but 1) requires more memory 2) goes out to the CPU.\n",
    "\n",
    "Adam has the advantage that is is lower memory and is in Theano so it stays on the GPU, but it can require more/different tuning to achieve comparable results (and often fails to achieve as good results as L-BFGS)"
   ]
  },
  {
   "cell_type": "markdown",
   "metadata": {},
   "source": [
    "### Adam:"
   ]
  },
  {
   "cell_type": "code",
   "execution_count": null,
   "metadata": {
    "collapsed": true
   },
   "outputs": [],
   "source": [
    "nst.fit(iterations=75, save_every_n=10, optimizer='adam')"
   ]
  },
  {
   "cell_type": "code",
   "execution_count": null,
   "metadata": {
    "collapsed": true
   },
   "outputs": [],
   "source": [
    "adam_losses = nst.losses"
   ]
  },
  {
   "cell_type": "code",
   "execution_count": null,
   "metadata": {
    "collapsed": true
   },
   "outputs": [],
   "source": [
    "import matplotlib.pyplot as plt\n",
    "%matplotlib inline\n",
    "plt.imshow(nst.final_image())"
   ]
  },
  {
   "cell_type": "markdown",
   "metadata": {},
   "source": [
    "### L-BFGS:"
   ]
  },
  {
   "cell_type": "code",
   "execution_count": null,
   "metadata": {
    "collapsed": true
   },
   "outputs": [],
   "source": [
    "nst_lbfgs = NeuralStyleTransfer(content_path, style_path, image_w=300, image_h=300)\n",
    "nst_lbfgs.fit(iterations=75, save_every_n=10, optimizer='l-bfgs')"
   ]
  },
  {
   "cell_type": "code",
   "execution_count": null,
   "metadata": {
    "collapsed": true
   },
   "outputs": [],
   "source": [
    "processed = [nst.deprocess(x) for x in nst.xs]\n",
    "processed_lbfgs = [nst_lbfgs.deprocess(x) for x in nst_lbfgs.xs]\n",
    "\n",
    "\n",
    "# len(nst.xs)"
   ]
  },
  {
   "cell_type": "code",
   "execution_count": null,
   "metadata": {
    "collapsed": true
   },
   "outputs": [],
   "source": [
    "fig,(ax1,ax2) = plt.subplots(1,2,figsize = (10,5))\n",
    "\n",
    "ax1.imshow(nst.final_image())\n",
    "ax1.axis('off')\n",
    "ax1.set_title('Adam')\n",
    "\n",
    "ax2.imshow(nst_lbfgs.final_image())\n",
    "ax2.axis('off')\n",
    "ax2.set_title('L-BFGS')\n",
    "\n",
    "\n",
    "plt.tight_layout()\n",
    "plt.savefig('Adam_vs_LBFGS.png')"
   ]
  },
  {
   "cell_type": "code",
   "execution_count": null,
   "metadata": {
    "collapsed": true
   },
   "outputs": [],
   "source": [
    "%matplotlib inline\n",
    "\n",
    "plt.plot(nst.losses,label = 'Adam')\n",
    "plt.plot(nst_lbfgs.losses,label = 'LBFGS')\n",
    "plt.legend()\n",
    "plt.xlim(0,75)\n",
    "plt.ylim(0,200000)\n",
    "\n",
    "plt.xlabel('Number of Optimization Iterations')\n",
    "plt.ylabel('Loss')\n",
    "plt.title('Comparing Optimization Methods Adam vs LBFGS ')\n",
    "plt.savefig('Optimization Comparisons.png')"
   ]
  },
  {
   "cell_type": "code",
   "execution_count": null,
   "metadata": {
    "collapsed": true
   },
   "outputs": [],
   "source": [
    "import matplotlib.pyplot as plt\n",
    "%matplotlib inline\n",
    "plt.imshow(nst.final_image())"
   ]
  }
 ],
 "metadata": {
  "anaconda-cloud": {},
  "kernelspec": {
   "display_name": "Python [py27]",
   "language": "python",
   "name": "Python [py27]"
  },
  "language_info": {
   "codemirror_mode": {
    "name": "ipython",
    "version": 2
   },
   "file_extension": ".py",
   "mimetype": "text/x-python",
   "name": "python",
   "nbconvert_exporter": "python",
   "pygments_lexer": "ipython2",
   "version": "2.7.11"
  }
 },
 "nbformat": 4,
 "nbformat_minor": 1
}
