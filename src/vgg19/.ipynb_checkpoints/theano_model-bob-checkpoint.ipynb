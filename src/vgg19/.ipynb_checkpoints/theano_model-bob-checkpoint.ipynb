{
 "cells": [
  {
   "cell_type": "code",
   "execution_count": 1,
   "metadata": {
    "collapsed": true
   },
   "outputs": [],
   "source": [
    "%matplotlib inline\n",
    "import matplotlib.pylab as plt\n",
    "import numpy as np\n",
    "import theano\n",
    "import theano.tensor as T\n",
    "from scipy import misc\n",
    "from theano_model import vgg19_model, preliminary_model\n",
    "reload(vgg19_model)\n",
    "VGG19 = vgg19_model.VGG19\n",
    "layer_weights = vgg19_model.layer_weights\n",
    "# bias_weights = vgg19_model.bias_weights\n",
    "\n",
    "\n",
    "labels_file = 'theano_model/labels/synset_words.txt'    \n",
    "labels = np.loadtxt(labels_file, str, delimiter='\\t')"
   ]
  },
  {
   "cell_type": "code",
   "execution_count": 2,
   "metadata": {
    "collapsed": true
   },
   "outputs": [],
   "source": [
    "from skimage.transform import resize\n",
    "from skimage.io import imread\n",
    "\n",
    "def prep_img(img):\n",
    "    img = img.transpose((2,0,1))\n",
    "    img = np.expand_dims(img, axis=0)\n",
    "    return img"
   ]
  },
  {
   "cell_type": "code",
   "execution_count": 3,
   "metadata": {
    "collapsed": true
   },
   "outputs": [],
   "source": [
    "cont = resize(imread('images/tubingen.jpg'), (224, 224)).astype(np.float32)\n",
    "style = resize(imread('images/starry_night.jpg'), (224,224)).astype(np.float32)\n",
    "#print(cont[0])\n",
    "content = prep_img(cont)\n",
    "style = prep_img(style)\n",
    "white_noise = np.random.uniform(low=-126, high=126, size=(1, 3, 224, 224))"
   ]
  },
  {
   "cell_type": "code",
   "execution_count": 4,
   "metadata": {
    "collapsed": true
   },
   "outputs": [],
   "source": [
    "# wn = theano.shared(value=white_noise, name='wn', borrow=True)\n",
    "vgg19 = VGG19(input_image_shape=(1,3,224,224))\n",
    "#vgg19 = VGG19(input_image_shape=(224,224,3))\n",
    "\n",
    "\n",
    "get_content_layer = theano.function(inputs=[vgg19.input],\n",
    "                                    outputs=vgg19.conv4_2.output)\n",
    "\n",
    "get_style_layers = theano.function(inputs=[vgg19.input],\n",
    "                                    outputs=[vgg19.conv1_1.output, vgg19.conv2_1.output,\n",
    "                                             vgg19.conv3_1.output, vgg19.conv4_1.output,\n",
    "                                             vgg19.conv5_1.output])"
   ]
  },
  {
   "cell_type": "code",
   "execution_count": 5,
   "metadata": {
    "collapsed": true
   },
   "outputs": [],
   "source": [
    "#get_params = theano.function(inputs=[vgg19.input], outputs = [vgg19.conv1_1.params])\n",
    "\n",
    "######### Stuff above this only needs to be run once ##########\n",
    "#sum(np.mean(np.square(L1[i]+L2[i])) for i in range(len(L1)))\n",
    "#might be just wn\n",
    "\n",
    "wn = theano.shared(value=white_noise, name='wn', borrow=False)\n",
    "\n",
    "wn_cont = T.dtensor4('wn_cont')\n",
    "cont = T.dtensor4('cont')\n",
    "\n",
    "cost = T.sum(T.sqr(vgg19.conv4_2.output-cont))/2\n",
    "\n",
    "img_grad = T.grad(cost, vgg19.input)\n",
    "\n",
    "train_model = theano.function([vgg19.input, cont], img_grad, updates=[(wn,wn-1*img_grad)])"
   ]
  },
  {
   "cell_type": "code",
   "execution_count": 6,
   "metadata": {
    "collapsed": true
   },
   "outputs": [],
   "source": [
    "cont_lay = get_content_layer(content)\n",
    "\n"
   ]
  },
  {
   "cell_type": "code",
   "execution_count": null,
   "metadata": {
    "collapsed": true
   },
   "outputs": [],
   "source": [
    "def difference(white_noise):\n",
    "    white_flatten = white_noise.flatten() \n",
    "    white_gradient = get_gradient(white_noise.reshape(1,3,224,224),cont_lay.astype(float))\n",
    "    return np.square((white_flatten- white_gradient)).mean()\n",
    "\n",
    "\n"
   ]
  },
  {
   "cell_type": "code",
   "execution_count": null,
   "metadata": {
    "collapsed": true
   },
   "outputs": [],
   "source": [
    "from scipy.optimize import fmin_l_bfgs_b\n",
    "get_gradient = theano.function([vgg19.input, cont], img_grad.flatten())\n",
    "\n",
    "\n",
    "output = fmin_l_bfgs_b(func = difference, \n",
    "                           x0 = white_noise.astype(float),approx_grad = True,  \n",
    "                       maxfun=2,iprint = 101)\n",
    "\n",
    "\n"
   ]
  },
  {
   "cell_type": "code",
   "execution_count": null,
   "metadata": {
    "collapsed": true
   },
   "outputs": [],
   "source": []
  }
 ],
 "metadata": {
  "anaconda-cloud": {},
  "kernelspec": {
   "display_name": "Python 2",
   "language": "python",
   "name": "python2"
  },
  "language_info": {
   "codemirror_mode": {
    "name": "ipython",
    "version": 2
   },
   "file_extension": ".py",
   "mimetype": "text/x-python",
   "name": "python",
   "nbconvert_exporter": "python",
   "pygments_lexer": "ipython2",
   "version": "2.7.11"
  }
 },
 "nbformat": 4,
 "nbformat_minor": 1
}
