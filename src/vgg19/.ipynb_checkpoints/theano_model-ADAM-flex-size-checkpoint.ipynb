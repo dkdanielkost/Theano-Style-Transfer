{
 "cells": [
  {
   "cell_type": "code",
   "execution_count": null,
   "metadata": {},
   "outputs": [],
   "source": [
    "%matplotlib inline\n",
    "import matplotlib.pylab as plt\n",
    "import numpy as np\n",
    "import theano\n",
    "import theano.tensor as T\n",
    "import scipy\n",
    "from scipy import misc\n",
    "import skimage\n",
    "from skimage.transform import resize\n",
    "from skimage.io import imread\n",
    "from theano_model import vgg19_model, preliminary_model\n",
    "reload(vgg19_model)\n",
    "VGG19 = vgg19_model.VGG19\n",
    "layer_weights = vgg19_model.layer_weights\n",
    "\n",
    "labels_file = 'theano_model/labels/synset_words.txt'    \n",
    "labels = np.loadtxt(labels_file, str, delimiter='\\t')"
   ]
  },
  {
   "cell_type": "code",
   "execution_count": null,
   "metadata": {},
   "outputs": [],
   "source": [
    "IMAGE_W = 1200\n",
    "IMAGE_H = 800\n",
    "\n",
    "\n",
    "MEAN_VALUES = np.array([104, 117, 123]).reshape((3,1,1))\n",
    "\n",
    "def prep_img_l(im):\n",
    "    if len(im.shape) == 2:\n",
    "        im = im[:, :, np.newaxis]\n",
    "        im = np.repeat(im, 3, axis=2)\n",
    "    h, w, _ = im.shape\n",
    "    im = skimage.transform.resize(im, (IMAGE_H, IMAGE_W), preserve_range=True)\n",
    "\n",
    "    \n",
    "    rawim = np.copy(im).astype('uint8')\n",
    "    \n",
    "    # Shuffle axes to c01\n",
    "    im = np.swapaxes(np.swapaxes(im, 1, 2), 0, 1)\n",
    "    \n",
    "    # Convert RGB to BGR\n",
    "    im = im[::-1, :, :]\n",
    "\n",
    "    im = im - MEAN_VALUES\n",
    "    return rawim, (im[np.newaxis]).astype(theano.config.floatX)"
   ]
  },
  {
   "cell_type": "code",
   "execution_count": null,
   "metadata": {},
   "outputs": [],
   "source": [
    "def gram_matrix(x):\n",
    "    x = x.flatten(ndim=3)\n",
    "    g = T.tensordot(x, x, axes=([2], [2]))\n",
    "    return g\n",
    "\n",
    "def calc_style_loss(style, gen_img):\n",
    "    sm = T.sum(T.sqr(gram_matrix(style)-gram_matrix(gen_img)))\n",
    "    N = style.shape[1]\n",
    "    M = style.shape[2]*style.shape[3]\n",
    "    E = 1.0/(4*N**2*M**2)\n",
    "    return E*sm\n",
    "\n",
    "def total_variation_loss(x):\n",
    "    return (((x[:,:,:-1,:-1] - x[:,:,1:,:-1])**2 + (x[:,:,:-1,:-1] - x[:,:,:-1,1:])**2)**1.25).sum()"
   ]
  },
  {
   "cell_type": "code",
   "execution_count": null,
   "metadata": {},
   "outputs": [],
   "source": [
    "cont = imread('images/tubingen.jpg')\n",
    "style = imread('images/starry_night.jpg')\n",
    "raw_content, content = prep_img_l(cont)\n",
    "raw_style, style = prep_img_l(style)\n",
    "white_noise = np.random.uniform(low=-128.0, high=128.0, size=(1, 3, IMAGE_H,IMAGE_W )).astype(theano.config.floatX)\n",
    "#white_noise=content"
   ]
  },
  {
   "cell_type": "code",
   "execution_count": null,
   "metadata": {},
   "outputs": [],
   "source": [
    "white_noise.shape"
   ]
  },
  {
   "cell_type": "code",
   "execution_count": null,
   "metadata": {},
   "outputs": [],
   "source": [
    "style.shape"
   ]
  },
  {
   "cell_type": "code",
   "execution_count": null,
   "metadata": {},
   "outputs": [],
   "source": [
    "wn = theano.shared(value=white_noise, name='wn', borrow=False)\n",
    "vgg19 = VGG19(input_image_shape=(1,3,IMAGE_H,IMAGE_W), pool_method = 'average_exc_pad')\n",
    "#vgg19 = VGG19(input_image_shape=(IMAGE_W,IMAGE_W,3))\n",
    "\n",
    "\n",
    "get_content_layer = theano.function(inputs=[vgg19.input],\n",
    "                                    outputs=vgg19.conv4_2.output)\n",
    "\n",
    "get_style_layers = theano.function(inputs=[vgg19.input],\n",
    "                                    outputs=[vgg19.conv1_1.output, vgg19.conv2_1.output,\n",
    "                                             vgg19.conv3_1.output, vgg19.conv4_1.output,\n",
    "                                             vgg19.conv5_1.output])\n",
    "\n",
    "sty_out = get_style_layers(style)\n",
    "cont_lay = get_content_layer(content)"
   ]
  },
  {
   "cell_type": "code",
   "execution_count": null,
   "metadata": {},
   "outputs": [],
   "source": [
    "#get_params = theano.function(inputs=[vgg19.input], outputs = [vgg19.conv1_1.params])\n",
    "\n",
    "######### Stuff above this only needs to be run once ##########\n",
    "#sum(np.mean(np.square(L1[i]+L2[i])) for i in range(len(L1)))\n",
    "#might be just wn\n",
    "\n",
    "wn = theano.shared(value=white_noise, name='wn', borrow=False)\n",
    "\n",
    "wn_cont = T.dtensor4('wn_cont')\n",
    "cont = T.dtensor4('cont')\n",
    "sty1 = T.dtensor4('sty1')\n",
    "sty2 = T.dtensor4('sty2')\n",
    "sty3 = T.dtensor4('sty3')\n",
    "sty4 = T.dtensor4('sty4')\n",
    "sty5 = T.dtensor4('sty5')\n",
    "\n",
    "# alpha/beta should be around 0.01 to achieve good results\n",
    "\n",
    "cont_loss = 0.001*0.5*T.sum(T.sqr(vgg19.conv4_2.output-cont))\n",
    "\n",
    "style_loss = 2e5*(calc_style_loss(sty1, vgg19.conv1_1.output) +\n",
    "             calc_style_loss(sty2, vgg19.conv2_1.output) +\n",
    "             calc_style_loss(sty3, vgg19.conv3_1.output) +\n",
    "             calc_style_loss(sty4, vgg19.conv4_1.output) +\n",
    "             calc_style_loss(sty5, vgg19.conv5_1.output))\n",
    "# style_loss = 0\n",
    "cost = cont_loss + style_loss\n",
    "#cost = cont_loss + style_loss\n",
    "\n",
    "'''losses.append(0.2e6 * style_loss(art_features, gen_features, 'conv1_1'))\n",
    "losses.append(0.2e6 * style_loss(art_features, gen_features, 'conv2_1'))\n",
    "losses.append(0.2e6 * style_loss(art_features, gen_features, 'conv3_1'))\n",
    "losses.append(0.2e6 * style_loss(art_features, gen_features, 'conv4_1'))\n",
    "losses.append(0.2e6 * style_loss(art_features, gen_features, 'conv5_1'))'''\n",
    "\n",
    "img_grad = T.grad(cost, vgg19.input)\n",
    "\n",
    "#img_grad_loss = T.sum(vgg19.conv1_1.output-cont)\n",
    "\n",
    "#train_model = theano.function([vgg19.input, cont, sty], outputs=[cost, img_grad], updates=[(wn,wn-img_grad)], on_unused_input='warn')"
   ]
  },
  {
   "cell_type": "code",
   "execution_count": null,
   "metadata": {},
   "outputs": [],
   "source": [
    "# Theano functions to evaluate loss and gradient\n",
    "f_loss = theano.function([vgg19.input, cont, sty1, sty2, sty3, sty4, sty5], cost)\n",
    "f_grad = theano.function([vgg19.input, cont, sty1, sty2, sty3, sty4, sty5], img_grad)\n",
    "\n",
    "# Helper functions to interface with scipy.optimize\n",
    "def eval_loss(x0):\n",
    "    x0 = x0.reshape((1, 3, IMAGE_H,IMAGE_W)).astype(theano.config.floatX)\n",
    "    wn.set_value(x0)\n",
    "    return f_loss(wn.get_value(), cont_lay, sty_out[0], sty_out[1], sty_out[2], sty_out[3], sty_out[4]).astype('float64')\n",
    "\n",
    "def eval_grad(x0):\n",
    "    x0 = x0.reshape((1, 3, IMAGE_H,IMAGE_W)).astype(theano.config.floatX)\n",
    "    wn.set_value(x0)\n",
    "    return np.array(f_grad(wn.get_value(), cont_lay, sty_out[0], sty_out[1], sty_out[2], sty_out[3], sty_out[4])).flatten().astype('float64')"
   ]
  },
  {
   "cell_type": "code",
   "execution_count": null,
   "metadata": {},
   "outputs": [],
   "source": [
    "asdf"
   ]
  },
  {
   "cell_type": "code",
   "execution_count": null,
   "metadata": {},
   "outputs": [],
   "source": [
    "wn.set_value(white_noise)\n",
    "\n",
    "x0 = wn.get_value().astype('float64')\n",
    "xs = []\n",
    "xs.append(x0)\n",
    "cont_lay = get_content_layer(content)\n",
    "sty_out = get_style_layers(style)\n",
    "\n",
    "# Optimize, saving the result periodically\n",
    "for i in range(1):\n",
    "    print(i)\n",
    "    scipy.optimize.fmin_l_bfgs_b(eval_loss, x0.flatten(), fprime=eval_grad, maxfun=10)\n",
    "    x0 = wn.get_value().astype('float64')\n",
    "    xs.append(x0)"
   ]
  },
  {
   "cell_type": "code",
   "execution_count": null,
   "metadata": {},
   "outputs": [],
   "source": [
    "content.shape"
   ]
  },
  {
   "cell_type": "code",
   "execution_count": null,
   "metadata": {},
   "outputs": [],
   "source": [
    "wn.get_value().shape"
   ]
  },
  {
   "cell_type": "code",
   "execution_count": null,
   "metadata": {},
   "outputs": [],
   "source": [
    "import joblib\n",
    "joblib.dump(x0,'image800')"
   ]
  },
  {
   "cell_type": "code",
   "execution_count": null,
   "metadata": {},
   "outputs": [],
   "source": [
    "def deprocess(x):\n",
    "    x = np.copy(x[0])\n",
    "    x += np.array([104, 117, 123]).reshape((3,1,1))\n",
    "\n",
    "    x = x[::-1]\n",
    "    x = np.swapaxes(np.swapaxes(x, 0, 1), 1, 2)\n",
    "    \n",
    "    x = np.clip(x, 0, 255).astype('uint8')\n",
    "    return x"
   ]
  },
  {
   "cell_type": "code",
   "execution_count": null,
   "metadata": {},
   "outputs": [],
   "source": [
    "plt.figure(figsize=(12,12))\n",
    "for i in range(len(xs)):\n",
    "    plt.subplot(3, 3, i+1)\n",
    "    plt.gca().xaxis.set_visible(False)\n",
    "    plt.gca().yaxis.set_visible(False)\n",
    "    plt.imshow(deprocess(xs[i]))\n",
    "plt.tight_layout()\n",
    "plt.savefig('800pixels.png')"
   ]
  },
  {
   "cell_type": "code",
   "execution_count": null,
   "metadata": {},
   "outputs": [],
   "source": [
    "plt.gca().xaxis.set_visible(False)\n",
    "plt.gca().yaxis.set_visible(False)\n",
    "plt.imshow(deprocess(xs[i]))\n",
    "plt.tight_layout()\n",
    "plt.savefig('800pixels.png')"
   ]
  },
  {
   "cell_type": "code",
   "execution_count": null,
   "metadata": {},
   "outputs": [],
   "source": [
    "plt.figure(figsize=(12,12))\n",
    "plt.subplot(1,3,1)\n",
    "plt.gca().xaxis.set_visible(False)\n",
    "plt.gca().yaxis.set_visible(False)\n",
    "plt.imshow(raw_content)\n",
    "plt.subplot(1,3,2)\n",
    "plt.gca().xaxis.set_visible(False)\n",
    "plt.gca().yaxis.set_visible(False)\n",
    "plt.imshow(raw_style)\n",
    "plt.subplot(1,3,3)\n",
    "plt.gca().xaxis.set_visible(False)\n",
    "plt.gca().yaxis.set_visible(False)\n",
    "plt.imshow(deprocess(xs[-1]))\n",
    "plt.tight_layout()\n",
    "plt.savefig(\"starry_night_in_nyc.png\", bbox_inches='tight', dpi=80)"
   ]
  },
  {
   "cell_type": "code",
   "execution_count": null,
   "metadata": {},
   "outputs": [],
   "source": [
    "w_grads = np.load('working_gradients/grads_01.npy')\n",
    "print('working gradients', 'current gradients')\n",
    "print('shapes', w_grads.shape, gradient.shape)\n",
    "print('total mean',np.mean(w_grads), np.mean(gradient))\n",
    "print('slice 1 mean',np.mean(w_grads[0,0,:,:]),np.mean(gradient[0,0,:,:]))\n",
    "print('slice 2 mean',np.mean(w_grads[0,1,:,:]),np.mean(gradient[0,1,:,:]))\n",
    "print('slice 3 mean',np.mean(w_grads[0,2,:,:]),np.mean(gradient[0,2,:,:]))\n",
    "print(loss)"
   ]
  },
  {
   "cell_type": "code",
   "execution_count": null,
   "metadata": {},
   "outputs": [],
   "source": [
    "plt.hist(deprocess(xs[2])[0,:,:].flatten())\n",
    "plt.hist(deprocess(xs[2])[1,:,:].flatten())\n",
    "plt.hist(deprocess(xs[2])[2,:,:].flatten())"
   ]
  },
  {
   "cell_type": "code",
   "execution_count": null,
   "metadata": {},
   "outputs": [],
   "source": [
    "plt.imshow(deprocess(xs[0])[0,0,:,:])"
   ]
  }
 ],
 "metadata": {
  "anaconda-cloud": {},
  "kernelspec": {
   "display_name": "Python 2",
   "language": "python",
   "name": "python2"
  },
  "language_info": {
   "codemirror_mode": {
    "name": "ipython",
    "version": 2
   },
   "file_extension": ".py",
   "mimetype": "text/x-python",
   "name": "python",
   "nbconvert_exporter": "python",
   "pygments_lexer": "ipython2"
  }
 },
 "nbformat": 4,
 "nbformat_minor": 1
}
