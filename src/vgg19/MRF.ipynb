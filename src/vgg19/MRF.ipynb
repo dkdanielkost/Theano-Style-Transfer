{
 "cells": [
  {
   "cell_type": "code",
   "execution_count": null,
   "metadata": {},
   "outputs": [],
   "source": [
    "%matplotlib inline\n",
    "import matplotlib.pylab as plt\n",
    "import numpy as np\n",
    "import theano\n",
    "import theano.tensor as T\n",
    "import scipy\n",
    "from scipy import misc\n",
    "import skimage\n",
    "from skimage.transform import resize\n",
    "from skimage.io import imread\n",
    "from theano_model import vgg19_model, preliminary_model\n",
    "reload(vgg19_model)\n",
    "VGG19 = vgg19_model.VGG19\n",
    "\n",
    "import  NeuralStyle\n"
   ]
  },
  {
   "cell_type": "code",
   "execution_count": null,
   "metadata": {},
   "outputs": [],
   "source": [
    "image_h = 124\n",
    "image_w = 124"
   ]
  },
  {
   "cell_type": "code",
   "execution_count": null,
   "metadata": {},
   "outputs": [],
   "source": [
    "content_path = 'images/tubingen.jpg'\n",
    "style_path = 'images/starry_night.jpg'\n",
    "nst = NeuralStyle.NeuralStyleTransfer(content_path, style_path,image_w,image_h)\n",
    "prep_img_l = nst.prep_img_l\n",
    "\n"
   ]
  },
  {
   "cell_type": "code",
   "execution_count": null,
   "metadata": {},
   "outputs": [],
   "source": []
  },
  {
   "cell_type": "code",
   "execution_count": null,
   "metadata": {},
   "outputs": [],
   "source": [
    "cont = imread('images/potrait1.jpg')\n",
    "style = imread('images/picasso.jpg')\n",
    "raw_content, content = prep_img_l(cont)\n",
    "raw_style, style = prep_img_l(style)\n",
    "white_noise = np.random.uniform(low=-128.0, high=128.0, size=(1, 3, image_w, image_h)).astype(theano.config.floatX)\n",
    "#white_noise=content"
   ]
  },
  {
   "cell_type": "code",
   "execution_count": null,
   "metadata": {},
   "outputs": [],
   "source": [
    "fig,(ax1,ax2) = plt.subplots(1,2,figsize = (10,5))\n",
    "ax1.imshow(raw_content)\n",
    "ax2.imshow(raw_style)"
   ]
  },
  {
   "cell_type": "code",
   "execution_count": null,
   "metadata": {},
   "outputs": [],
   "source": [
    "wn = theano.shared(value=white_noise, name='wn', borrow=False)\n",
    "vgg19 = VGG19(input_image_shape=(1,3,image_w,image_h), pool_method = 'average_exc_pad')\n",
    "#vgg19 = VGG19(input_image_shape=(224,224,3))\n",
    "\n",
    "\n",
    "get_content_layer = theano.function(inputs=[vgg19.input],\n",
    "                                    outputs=vgg19.conv4_2.output)\n",
    "\n",
    "get_style_layers = theano.function(inputs=[vgg19.input],\n",
    "                                    outputs=[vgg19.conv3_1.output, vgg19.conv4_1.output])\n",
    "\n",
    "sty_out = get_style_layers(style)\n",
    "cont_lay = get_content_layer(content)\n",
    "\n",
    "sty_out_white = get_style_layers(wn.get_value())\n",
    "cont_lay_white = get_content_layer(wn.get_value())"
   ]
  },
  {
   "cell_type": "code",
   "execution_count": null,
   "metadata": {},
   "outputs": [],
   "source": [
    "from theano.tensor.nnet import conv2d\n",
    "from theano.tensor.nnet.neighbours import images2neibs"
   ]
  },
  {
   "cell_type": "code",
   "execution_count": null,
   "metadata": {},
   "outputs": [],
   "source": [
    "sty_out = get_style_layers(style)\n",
    "cont_lay = get_content_layer(content)\n",
    "\n",
    "sty_out_white = get_style_layers(wn.get_value())"
   ]
  },
  {
   "cell_type": "code",
   "execution_count": null,
   "metadata": {},
   "outputs": [],
   "source": [
    "########################################################\n",
    "white_neib_input = vgg19.conv3_1.output\n",
    "style_neib_input = theano.tensor.tensor4('style_neib_input')\n",
    "\n",
    "n_shape = 5\n",
    "n_step = 5\n",
    "\n",
    "white_neib = images2neibs(ten4 = white_neib_input,\n",
    "                    neib_shape = (n_shape, n_shape),\n",
    "                    neib_step = (n_step, n_step),\n",
    "                    mode = 'ignore_borders')\n",
    "\n",
    "\n",
    "style_neib = images2neibs(ten4 = style_neib_input,\n",
    "                    neib_shape = (n_shape, n_shape),\n",
    "                    neib_step = (n_step, n_step),\n",
    "                    mode = 'ignore_borders')\n",
    "\n",
    "\n",
    "\n",
    "mat = theano.dot(white_neib, style_neib.T)\n",
    "white_norms = white_neib / white_neib.sum(axis=1).reshape((white_neib.shape[0], 1))\n",
    "style_norms = style_neib / style_neib.sum(axis=1).reshape((style_neib.shape[0], 1))\n",
    "\n",
    "\n",
    "denominator = (white_norms*style_neib).sum(axis = 1)\n",
    "mat2 = mat / denominator\n",
    "\n",
    "closest_matches = np.argmax(mat2, axis=0)\n",
    "style_energy = (white_neib - style_neib[closest_matches]).norm(L = 2,axis=None)\n",
    "\n",
    "\n",
    "\n",
    "\n",
    "########################################################\n",
    "white_neib1_input = vgg19.conv4_1.output\n",
    "style_neib1_input = theano.tensor.tensor4('style_neib1_input')\n",
    "\n",
    "\n",
    "\n",
    "\n",
    "white_neib1 = images2neibs(ten4 = white_neib1_input,\n",
    "                    neib_shape = (n_shape, n_shape),\n",
    "                    neib_step = (n_step, n_step),\n",
    "                    mode = 'ignore_borders')\n",
    "\n",
    "\n",
    "style_neib1 = images2neibs(ten4 = style_neib1_input,\n",
    "                    neib_shape = (n_shape, n_shape),\n",
    "                    neib_step = (n_step, n_step),\n",
    "                    mode = 'ignore_borders')\n",
    "\n",
    "\n",
    "\n",
    "\n",
    "mat1 = theano.dot(white_neib1, style_neib1.T)\n",
    "white_norms1 = white_neib1 / white_neib1.sum(axis=1).reshape((white_neib1.shape[0], 1))\n",
    "style_norms1 = style_neib1 / style_neib1.sum(axis=1).reshape((style_neib1.shape[0], 1))\n",
    "\n",
    "\n",
    "denominator1 = (white_norms1*style_neib1).sum(axis = 1)\n",
    "mat21 = mat1 / denominator1\n",
    "\n",
    "closest_matches1 = np.argmax(mat21, axis=0)\n",
    "style_energy1 = (white_neib1 - style_neib1[closest_matches1]).norm(L = 2,axis=None)\n",
    "\n",
    "\n",
    "style_cost = style_energy + style_energy1\n",
    "\n",
    "\n",
    "cont = T.dtensor4('cont')\n",
    "\n",
    "cont_loss = 0.5*T.sum(T.sqr(vgg19.conv4_2.output-cont))\n",
    "\n",
    "\n",
    "total_cost = style_cost + cont_loss\n",
    "img_grad = T.grad(total_cost, vgg19.input)"
   ]
  },
  {
   "cell_type": "code",
   "execution_count": null,
   "metadata": {},
   "outputs": [],
   "source": [
    "f_loss = theano.function([vgg19.input,cont,style_neib_input,style_neib1_input], total_cost)\n",
    "f_grad = theano.function([vgg19.input,cont,style_neib_input,style_neib1_input],img_grad)\n",
    "\n",
    "def lbfgs_loss(x0):\n",
    "    x0 = x0.reshape((1, 3, image_w,image_h)).astype(theano.config.floatX)\n",
    "    wn.set_value(x0)\n",
    "    loss = f_loss(wn.get_value(), cont_lay,sty_out[0],sty_out[1]).astype('float64')\n",
    "    print loss\n",
    "    return loss\n",
    "\n",
    "def lbfgs_gradient(x0):\n",
    "    x0 = x0.reshape((1, 3, image_w,image_h)).astype(theano.config.floatX)\n",
    "    wn.set_value(x0)\n",
    "    gradient = np.array(f_grad(wn.get_value(), cont_lay,sty_out[0],sty_out[1])).flatten().astype('float64')\n",
    "    return gradient"
   ]
  },
  {
   "cell_type": "code",
   "execution_count": null,
   "metadata": {},
   "outputs": [],
   "source": [
    "\n",
    "x0 = wn.get_value().astype('float64')\n",
    "xs = []\n",
    "xs.append(x0)\n",
    "cont_lay = get_content_layer(content)\n",
    "sty_out = get_style_layers(style)\n",
    "\n",
    "for i in range(9):\n",
    "    print(i)\n",
    "    scipy.optimize.fmin_l_bfgs_b(lbfgs_loss, x0.flatten(), fprime=lbfgs_gradient, maxfun=20)\n",
    "    x0 = wn.get_value().astype('float64')\n",
    "#     joblib.dump(x0,'results/art_test' + str(i))\n",
    "    xs.append(x0)"
   ]
  },
  {
   "cell_type": "code",
   "execution_count": null,
   "metadata": {},
   "outputs": [],
   "source": [
    "plt.imshow(np.transpose(x0[0],(1,2,0)))"
   ]
  },
  {
   "cell_type": "code",
   "execution_count": null,
   "metadata": {},
   "outputs": [],
   "source": []
  }
 ],
 "metadata": {
  "anaconda-cloud": {},
  "kernelspec": {
   "display_name": "Python 2",
   "language": "python",
   "name": "python2"
  },
  "language_info": {
   "codemirror_mode": {
    "name": "ipython",
    "version": 2
   },
   "file_extension": ".py",
   "mimetype": "text/x-python",
   "name": "python",
   "nbconvert_exporter": "python",
   "pygments_lexer": "ipython2"
  }
 },
 "nbformat": 4,
 "nbformat_minor": 1
}
