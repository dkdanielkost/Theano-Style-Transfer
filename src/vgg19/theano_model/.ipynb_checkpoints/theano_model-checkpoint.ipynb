{
 "cells": [
  {
   "cell_type": "code",
   "execution_count": null,
   "metadata": {},
   "outputs": [],
   "source": [
    "batch_size = 1\n"
   ]
  },
  {
   "cell_type": "code",
   "execution_count": null,
   "metadata": {},
   "outputs": [],
   "source": [
    "%matplotlib inline\n",
    "import matplotlib.pylab as plt\n"
   ]
  },
  {
   "cell_type": "code",
   "execution_count": null,
   "metadata": {},
   "outputs": [],
   "source": [
    "import vgg19_model\n",
    "reload(vgg19_model)\n",
    "VGG19 = vgg19_model.VGG19\n",
    "import numpy as np\n",
    "import theano\n",
    "layer_weights = vgg19_model.layer_weights\n",
    "bias_weights = vgg19_model.bias_weights\n",
    "\n",
    "\n",
    "VGG19_conv2d_layer = vgg19_model.VGG19_conv2d_layer\n",
    "batch_size = 1\n",
    "input_image = np.ones(((batch_size,3, 224, 224)))\n",
    "image = theano.tensor.tensor4('image')\n"
   ]
  },
  {
   "cell_type": "code",
   "execution_count": null,
   "metadata": {},
   "outputs": [],
   "source": []
  },
  {
   "cell_type": "code",
   "execution_count": null,
   "metadata": {},
   "outputs": [],
   "source": [
    "import cv2\n",
    "img = cv2.resize(cv2.imread('../bald_eagle.jpg'), (224, 224)).astype(np.float32)\n",
    "# im[:,:,0] -= 103.939\n",
    "# im[:,:,1] -= 116.779\n",
    "# im[:,:,2] -= 123.68\n",
    "\n",
    "mean_pixel = [103.939, 116.779, 123.68]\n",
    "img = img.astype(np.float32, copy=False)\n",
    "for c in range(3):\n",
    "    img[:, :, c] = img[:, :, c] - mean_pixel[c]\n",
    "img = img.transpose((2,0,1))\n",
    "img = np.expand_dims(img, axis=0)\n",
    "\n",
    "im = img\n"
   ]
  },
  {
   "cell_type": "code",
   "execution_count": null,
   "metadata": {},
   "outputs": [],
   "source": [
    "im.shape"
   ]
  },
  {
   "cell_type": "code",
   "execution_count": null,
   "metadata": {},
   "outputs": [],
   "source": [
    "im2 = im.reshape(1,224,224,3)\n",
    "print im2.shape\n",
    "\n",
    "new_input_image = np.transpose(im2,(0,3,1,2))"
   ]
  },
  {
   "cell_type": "code",
   "execution_count": null,
   "metadata": {},
   "outputs": [],
   "source": [
    "vgg19 = VGG19(input_image_shape=(1,224,224,3))\n",
    "try_out = theano.function(inputs=[vgg19.input],outputs=vgg19.dense_12.output)\n",
    "\n",
    "\n"
   ]
  },
  {
   "cell_type": "code",
   "execution_count": null,
   "metadata": {},
   "outputs": [],
   "source": [
    "softmax_output = try_out(im)"
   ]
  },
  {
   "cell_type": "code",
   "execution_count": null,
   "metadata": {},
   "outputs": [],
   "source": [
    "print softmax_output.shape\n",
    "print softmax_output.sum()"
   ]
  },
  {
   "cell_type": "code",
   "execution_count": null,
   "metadata": {},
   "outputs": [],
   "source": [
    "softmax_output[0].sum()"
   ]
  },
  {
   "cell_type": "code",
   "execution_count": null,
   "metadata": {},
   "outputs": [],
   "source": [
    "print np.argmax(softmax_output[0])\n",
    "\n",
    "print labels[22]"
   ]
  },
  {
   "cell_type": "code",
   "execution_count": null,
   "metadata": {},
   "outputs": [],
   "source": [
    "import pickle\n",
    "import pandas as pd\n",
    "file = open('../labels/imagenet.bet.pickle','rb')\n",
    "labels = pickle.load(file)\n",
    "df_labels = pd.DataFrame(zip(labels[labels.keys()[1]],labels[labels.keys()[3]]))\n",
    "df_labels.columns = ['Text Label','Numeric Label']"
   ]
  },
  {
   "cell_type": "code",
   "execution_count": null,
   "metadata": {},
   "outputs": [],
   "source": [
    "labels.keys()"
   ]
  },
  {
   "cell_type": "code",
   "execution_count": null,
   "metadata": {},
   "outputs": [],
   "source": [
    "# def print_top_5(out):\n",
    "top_five = np.argsort(softmax_output[0])\n",
    "\n",
    "labels_file = '../labels/synset_words.txt'    \n",
    "labels = np.loadtxt(labels_file, str, delimiter='\\t')\n",
    "\n",
    "for i,label in enumerate(labels[top_five]):\n",
    "    print str(i), ' output label: ', label.strip().split(' ')[1]\n",
    "\n"
   ]
  },
  {
   "cell_type": "code",
   "execution_count": null,
   "metadata": {},
   "outputs": [],
   "source": []
  },
  {
   "cell_type": "code",
   "execution_count": null,
   "metadata": {},
   "outputs": [],
   "source": [
    "labels"
   ]
  },
  {
   "cell_type": "code",
   "execution_count": null,
   "metadata": {},
   "outputs": [],
   "source": [
    "softmax_output[0]"
   ]
  },
  {
   "cell_type": "code",
   "execution_count": null,
   "metadata": {},
   "outputs": [],
   "source": [
    "labels[top_five]"
   ]
  },
  {
   "cell_type": "code",
   "execution_count": null,
   "metadata": {},
   "outputs": [],
   "source": [
    "labels"
   ]
  },
  {
   "cell_type": "code",
   "execution_count": null,
   "metadata": {},
   "outputs": [],
   "source": [
    "for i in vgg19.__dict__.keys():\n",
    "    print i,vgg19.__dict__[i].get_values()"
   ]
  },
  {
   "cell_type": "code",
   "execution_count": null,
   "metadata": {},
   "outputs": [],
   "source": [
    "vgg19.convolution2d_50_pool.o"
   ]
  },
  {
   "cell_type": "code",
   "execution_count": null,
   "metadata": {},
   "outputs": [],
   "source": []
  }
 ],
 "metadata": {
  "kernelspec": {
   "display_name": "Python 2",
   "language": "python",
   "name": "python2"
  },
  "language_info": {
   "codemirror_mode": {
    "name": "ipython",
    "version": 2
   },
   "file_extension": ".py",
   "mimetype": "text/x-python",
   "name": "python",
   "nbconvert_exporter": "python",
   "pygments_lexer": "ipython2"
  }
 },
 "nbformat": 4,
 "nbformat_minor": 1
}
